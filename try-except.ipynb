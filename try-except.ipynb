{
 "cells": [
  {
   "cell_type": "markdown",
   "metadata": {},
   "source": [
    "# Function to avoid multiple try-except blocks"
   ]
  },
  {
   "cell_type": "code",
   "execution_count": 2,
   "metadata": {
    "collapsed": true
   },
   "outputs": [],
   "source": [
    "def special_func(test_case_dict):\n",
    "    final_dict = {}\n",
    "    exception_dict = {}\n",
    "\n",
    "    def try_except_avoider(test_case_dict):\n",
    "\n",
    "        try:\n",
    "            for k,v in test_case_dict.items():\n",
    "                final_dict[k]=eval(v) #If no exception evaluate the function and add it to final_dict\n",
    "\n",
    "        except Exception as e:\n",
    "            exception_dict[k]=e #extract exception\n",
    "            test_case_dict.pop(k)\n",
    "            try_except_avoider(test_case_dict) #recursive function to handle remaining functions\n",
    "\n",
    "        finally:  #cleanup\n",
    "            final_dict.update(exception_dict)\n",
    "            return final_dict #combine exception dict and  final dict\n",
    "        \n",
    "    return try_except_avoider(test_case_dict)"
   ]
  },
  {
   "cell_type": "markdown",
   "metadata": {},
   "source": [
    "# Test Case"
   ]
  },
  {
   "cell_type": "code",
   "execution_count": 6,
   "metadata": {
    "collapsed": false,
    "scrolled": true
   },
   "outputs": [
    {
     "data": {
      "text/plain": [
       "{'AddFunc': 17,\n",
       " 'MulFunc': SyntaxError('invalid syntax', ('<string>', 1, 5, 'mul(,6)')),\n",
       " 'SubFunc': 3}"
      ]
     },
     "execution_count": 6,
     "metadata": {},
     "output_type": "execute_result"
    }
   ],
   "source": [
    "def add(a,b):\n",
    "    return (a+b)\n",
    "def sub(a,b):\n",
    "    return (a-b)\n",
    "def mul(a,b):\n",
    "    return (a*b)\n",
    "\n",
    "case = {\"AddFunc\":\"add(9,8)\",\"SubFunc\":\"sub(8,5)\",\"MulFunc\":\"mul(,6)\"}\n",
    "solution = special_func(case)\n",
    "solution"
   ]
  },
  {
   "cell_type": "code",
   "execution_count": 7,
   "metadata": {
    "collapsed": true
   },
   "outputs": [],
   "source": [
    "locals().update(solution)"
   ]
  },
  {
   "cell_type": "code",
   "execution_count": 8,
   "metadata": {
    "collapsed": false
   },
   "outputs": [
    {
     "data": {
      "text/plain": [
       "17"
      ]
     },
     "execution_count": 8,
     "metadata": {},
     "output_type": "execute_result"
    }
   ],
   "source": [
    "AddFunc"
   ]
  },
  {
   "cell_type": "code",
   "execution_count": 9,
   "metadata": {
    "collapsed": false
   },
   "outputs": [
    {
     "data": {
      "text/plain": [
       "SyntaxError('invalid syntax', ('<string>', 1, 5, 'mul(,6)'))"
      ]
     },
     "execution_count": 9,
     "metadata": {},
     "output_type": "execute_result"
    }
   ],
   "source": [
    "MulFunc"
   ]
  },
  {
   "cell_type": "code",
   "execution_count": 10,
   "metadata": {
    "collapsed": false
   },
   "outputs": [
    {
     "data": {
      "text/plain": [
       "3"
      ]
     },
     "execution_count": 10,
     "metadata": {},
     "output_type": "execute_result"
    }
   ],
   "source": [
    "SubFunc"
   ]
  }
 ],
 "metadata": {
  "kernelspec": {
   "display_name": "Python [Root]",
   "language": "python",
   "name": "Python [Root]"
  },
  "language_info": {
   "codemirror_mode": {
    "name": "ipython",
    "version": 3
   },
   "file_extension": ".py",
   "mimetype": "text/x-python",
   "name": "python",
   "nbconvert_exporter": "python",
   "pygments_lexer": "ipython3",
   "version": "3.5.2"
  }
 },
 "nbformat": 4,
 "nbformat_minor": 0
}
